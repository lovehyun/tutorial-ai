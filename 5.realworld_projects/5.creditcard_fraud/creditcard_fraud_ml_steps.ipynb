{
 "cells": [
  {
   "cell_type": "markdown",
   "id": "00b06026",
   "metadata": {},
   "source": [
    "# 1-1. 데이터 로드 및 기본 정보 확인\n",
    "신용카드 거래 데이터를 불러오고, 데이터의 구조 및 클래스 분포를 확인합니다."
   ]
  },
  {
   "cell_type": "code",
   "execution_count": null,
   "id": "2930af8f",
   "metadata": {},
   "outputs": [],
   "source": [
    "import pandas as pd\n",
    "\n",
    "# 데이터 로드\n",
    "df = pd.read_csv('creditcard.csv')\n",
    "\n",
    "# 데이터 구조 확인\n",
    "print(df.shape)\n",
    "print(df.info())\n",
    "print(df.head())\n",
    "\n",
    "# 클래스 분포 확인\n",
    "print(df['Class'].value_counts())"
   ]
  },
  {
   "cell_type": "markdown",
   "id": "430debcf",
   "metadata": {},
   "source": [
    "# 1-2. 클래스 분포 시각화\n",
    "클래스 불균형을 시각적으로 확인합니다."
   ]
  },
  {
   "cell_type": "code",
   "execution_count": null,
   "id": "68d7776a",
   "metadata": {},
   "outputs": [],
   "source": [
    "import matplotlib.pyplot as plt\n",
    "\n",
    "counts = df['Class'].value_counts()\n",
    "labels = ['Normal', 'Fraud']\n",
    "\n",
    "plt.figure(figsize=(6, 4))\n",
    "plt.bar(labels, counts)\n",
    "plt.title('Class Distribution')\n",
    "plt.show()\n",
    "plt.close('all')  # 리소스 정리"
   ]
  },
  {
   "cell_type": "markdown",
   "id": "39989d9f",
   "metadata": {},
   "source": [
    "# 1-3. 정규화\n",
    "거래 금액과 시간 데이터를 정규화하여 모델 학습에 적합한 형태로 변환합니다."
   ]
  },
  {
   "cell_type": "code",
   "execution_count": null,
   "id": "85741c49",
   "metadata": {},
   "outputs": [],
   "source": [
    "from sklearn.preprocessing import StandardScaler\n",
    "\n",
    "scaler = StandardScaler()\n",
    "df['Amount_Scaled'] = scaler.fit_transform(df[['Amount']])\n",
    "df['Time_Scaled'] = scaler.fit_transform(df[['Time']])\n",
    "\n",
    "# 기존 피처 삭제\n",
    "df = df.drop(['Amount', 'Time'], axis=1)"
   ]
  },
  {
   "cell_type": "markdown",
   "id": "44bbcfc3",
   "metadata": {},
   "source": [
    "# 2-1. 데이터 분리\n",
    "학습 데이터와 테스트 데이터를 나눕니다."
   ]
  },
  {
   "cell_type": "code",
   "execution_count": null,
   "id": "20b62bae",
   "metadata": {},
   "outputs": [],
   "source": [
    "from sklearn.model_selection import train_test_split\n",
    "\n",
    "X = df.drop('Class', axis=1)\n",
    "y = df['Class']\n",
    "\n",
    "X_train, X_test, y_train, y_test = train_test_split(X, y, test_size=0.2, stratify=y, random_state=42)"
   ]
  },
  {
   "cell_type": "markdown",
   "id": "28ae61af",
   "metadata": {},
   "source": [
    "# 2-2. 로지스틱 회귀 기본 학습\n",
    "불균형 데이터를 그대로 학습하여 기본 성능을 확인합니다."
   ]
  },
  {
   "cell_type": "code",
   "execution_count": null,
   "id": "073b320f",
   "metadata": {},
   "outputs": [],
   "source": [
    "from sklearn.linear_model import LogisticRegression\n",
    "from sklearn.metrics import classification_report, confusion_matrix\n",
    "\n",
    "model = LogisticRegression(max_iter=1000)\n",
    "model.fit(X_train, y_train)\n",
    "\n",
    "y_pred = model.predict(X_test)\n",
    "\n",
    "print(confusion_matrix(y_test, y_pred))\n",
    "print(classification_report(y_test, y_pred))"
   ]
  },
  {
   "cell_type": "markdown",
   "id": "cd968ebc",
   "metadata": {},
   "source": [
    "# 3-1. SMOTE 적용 (Oversampling)\n",
    "데이터 불균형 문제를 해결하기 위해 소수 클래스 데이터를 합성하여 샘플을 균등하게 만듭니다."
   ]
  },
  {
   "cell_type": "code",
   "execution_count": null,
   "id": "3c172776",
   "metadata": {},
   "outputs": [],
   "source": [
    "from imblearn.over_sampling import SMOTE\n",
    "\n",
    "smote = SMOTE(random_state=42)\n",
    "X_train_smote, y_train_smote = smote.fit_resample(X_train, y_train)\n",
    "\n",
    "print(pd.Series(y_train_smote).value_counts())"
   ]
  },
  {
   "cell_type": "markdown",
   "id": "1213412c",
   "metadata": {},
   "source": [
    "# 3-2. SMOTE 재학습\n",
    "SMOTE 적용 후 로지스틱 회귀 재학습을 통해 모델 성능을 비교합니다."
   ]
  },
  {
   "cell_type": "code",
   "execution_count": null,
   "id": "9ba8af58",
   "metadata": {},
   "outputs": [],
   "source": [
    "model_smote = LogisticRegression(max_iter=1000)\n",
    "model_smote.fit(X_train_smote, y_train_smote)\n",
    "\n",
    "y_pred_smote = model_smote.predict(X_test)\n",
    "\n",
    "print(confusion_matrix(y_test, y_pred_smote))\n",
    "print(classification_report(y_test, y_pred_smote))"
   ]
  },
  {
   "cell_type": "markdown",
   "id": "013f1066",
   "metadata": {},
   "source": [
    "# 4-1. Isolation Forest 비지도 학습\n",
    "비지도 학습으로 이상치(사기 거래)를 탐지합니다."
   ]
  },
  {
   "cell_type": "code",
   "execution_count": null,
   "id": "1fef6172",
   "metadata": {},
   "outputs": [],
   "source": [
    "from sklearn.ensemble import IsolationForest\n",
    "\n",
    "iso_model = IsolationForest(contamination=0.001, random_state=42)\n",
    "iso_model.fit(X_train)\n",
    "\n",
    "# predict: 정상 1, 이상치 -1\n",
    "y_pred_iso = iso_model.predict(X_test)\n",
    "y_pred_iso = [1 if x == -1 else 0 for x in y_pred_iso]  # 이상치만 1로 변환\n",
    "\n",
    "print(confusion_matrix(y_test, y_pred_iso))\n",
    "print(classification_report(y_test, y_pred_iso))"
   ]
  },
  {
   "cell_type": "markdown",
   "id": "1ebe8370",
   "metadata": {},
   "source": [
    "# 5-1. AUC 비교\n",
    "지도학습과 비지도학습의 AUC를 비교합니다."
   ]
  },
  {
   "cell_type": "code",
   "execution_count": null,
   "id": "76348f95",
   "metadata": {},
   "outputs": [],
   "source": [
    "from sklearn.metrics import roc_auc_score\n",
    "\n",
    "print('지도학습 AUC:', roc_auc_score(y_test, model_smote.predict_proba(X_test)[:, 1]))\n",
    "print('비지도학습 AUC:', roc_auc_score(y_test, y_pred_iso))"
   ]
  },
  {
   "cell_type": "markdown",
   "id": "eabe587f",
   "metadata": {},
   "source": [
    "# 6-1. 모델 튜닝 (Grid Search)\n",
    "Grid Search를 통해 로지스틱 회귀의 최적 파라미터를 찾습니다."
   ]
  },
  {
   "cell_type": "code",
   "execution_count": null,
   "id": "40624aea",
   "metadata": {},
   "outputs": [],
   "source": [
    "from sklearn.model_selection import GridSearchCV\n",
    "\n",
    "param_grid = {'C': [0.01, 0.1, 1, 10, 100]}\n",
    "grid = GridSearchCV(LogisticRegression(max_iter=1000), param_grid, cv=3, scoring='f1', n_jobs=-1)\n",
    "grid.fit(X_train_smote, y_train_smote)\n",
    "\n",
    "print('Best Parameters:', grid.best_params_)\n",
    "print('Best Score:', grid.best_score_)"
   ]
  },
  {
   "cell_type": "markdown",
   "id": "69a15bae",
   "metadata": {},
   "source": [
    "# 7-1. Stratified K-Fold Cross Validation\n",
    "불균형 데이터를 고려한 K-Fold 교차 검증을 수행합니다."
   ]
  },
  {
   "cell_type": "code",
   "execution_count": null,
   "id": "a7fb1c36",
   "metadata": {},
   "outputs": [],
   "source": [
    "from sklearn.model_selection import StratifiedKFold, cross_val_score\n",
    "\n",
    "kfold = StratifiedKFold(n_splits=5, shuffle=True, random_state=42)\n",
    "model = LogisticRegression(max_iter=1000)\n",
    "scores = cross_val_score(model, X, y, cv=kfold, scoring='f1', n_jobs=-1)\n",
    "\n",
    "print('F1 scores for each fold:', scores)\n",
    "print('Average F1 score:', scores.mean())"
   ]
  },
  {
   "cell_type": "markdown",
   "id": "6eb6f0e7",
   "metadata": {},
   "source": [
    "# 8-1. 최종 파이프라인 구성\n",
    "SMOTE와 로지스틱 회귀를 파이프라인으로 구성하여 재학습합니다."
   ]
  },
  {
   "cell_type": "code",
   "execution_count": null,
   "id": "525469c9",
   "metadata": {},
   "outputs": [],
   "source": [
    "from sklearn.pipeline import Pipeline\n",
    "\n",
    "pipeline = Pipeline([\n",
    "    ('smote', SMOTE(random_state=42)),\n",
    "    ('model', LogisticRegression(max_iter=1000))\n",
    "])\n",
    "\n",
    "pipeline.fit(X_train, y_train)\n",
    "y_pred = pipeline.predict(X_test)\n",
    "\n",
    "print(confusion_matrix(y_test, y_pred))\n",
    "print(classification_report(y_test, y_pred))"
   ]
  }
 ],
 "metadata": {},
 "nbformat": 4,
 "nbformat_minor": 5
}
